{
 "cells": [
  {
   "cell_type": "markdown",
   "metadata": {},
   "source": [
    "# Basic Models"
   ]
  },
  {
   "cell_type": "code",
   "execution_count": 15,
   "metadata": {},
   "outputs": [],
   "source": [
    "import sys\n",
    "import numpy as np\n",
    "import matplotlib.pyplot as plt\n",
    "import tensorflow as tf\n",
    "%matplotlib inline"
   ]
  },
  {
   "cell_type": "code",
   "execution_count": 18,
   "metadata": {},
   "outputs": [
    {
     "name": "stdout",
     "output_type": "stream",
     "text": [
      "3.6.2 (default, Jul 17 2017, 16:44:45) \n",
      "[GCC 4.2.1 Compatible Apple LLVM 8.1.0 (clang-802.0.42)]\n",
      "1.3.0\n"
     ]
    }
   ],
   "source": [
    "print(sys.version)\n",
    "print(tf.__version__)"
   ]
  },
  {
   "cell_type": "code",
   "execution_count": 19,
   "metadata": {},
   "outputs": [],
   "source": [
    "%qtconsole"
   ]
  },
  {
   "cell_type": "markdown",
   "metadata": {},
   "source": [
    "## Linear Regression Example"
   ]
  },
  {
   "cell_type": "code",
   "execution_count": 32,
   "metadata": {},
   "outputs": [],
   "source": [
    "# Parameters\n",
    "learning_rate = 0.01\n",
    "training_epochs = 1000\n",
    "display_step = 50"
   ]
  },
  {
   "cell_type": "code",
   "execution_count": 20,
   "metadata": {},
   "outputs": [
    {
     "name": "stdout",
     "output_type": "stream",
     "text": [
      "17\n"
     ]
    },
    {
     "data": {
      "text/plain": [
       "[<matplotlib.lines.Line2D at 0x126776dd8>]"
      ]
     },
     "execution_count": 20,
     "metadata": {},
     "output_type": "execute_result"
    },
    {
     "data": {
      "image/png": "[encoded data removed]",
      "text/plain": [
       "<matplotlib.figure.Figure at 0x1265d3c50>"
      ]
     },
     "metadata": {},
     "output_type": "display_data"
    }
   ],
   "source": [
    "# Training Data\n",
    "train_X = np.array([3.3,4.4,5.5,6.71,6.93,4.168,9.779,6.182,7.59,2.167,\n",
    "                         7.042,10.791,5.313,7.997,5.654,9.27,3.1])\n",
    "train_Y = np.array([1.7,2.76,2.09,3.19,1.694,1.573,3.366,2.596,2.53,1.221,\n",
    "                         2.827,3.465,1.65,2.904,2.42,2.94,1.3])\n",
    "n_samples = train_X.shape[0]\n",
    "print(n_samples)\n",
    "plt.plot(train_X, train_Y, 'ro')"
   ]
  },
  {
   "cell_type": "markdown",
   "metadata": {},
   "source": [
    "We will fit our model by using linear model:\n",
    "\n",
    "$$\n",
    "y = Wx + b\n",
    "$$"
   ]
  },
  {
   "cell_type": "code",
   "execution_count": 24,
   "metadata": {},
   "outputs": [],
   "source": [
    "# tf Graph Input\n",
    "X = tf.placeholder(tf.float32)\n",
    "Y = tf.placeholder(tf.float32)\n",
    "\n",
    "# Set model weights\n",
    "W = tf.Variable(np.random.randn(), name = \"weight\")\n",
    "b = tf.Variable(np.random.randn(), name = \"bias\")"
   ]
  },
  {
   "cell_type": "code",
   "execution_count": 25,
   "metadata": {},
   "outputs": [],
   "source": [
    "# Construct a linear model\n",
    "pred = tf.add(tf.multiply(X, W), b)"
   ]
  },
  {
   "cell_type": "markdown",
   "metadata": {},
   "source": [
    "Construct the optimazition target:\n",
    "\n",
    "$$\n",
    "cost = min\\frac{(pred - Y)^2}{2 * Nsamples}\n",
    "$$"
   ]
  },
  {
   "cell_type": "code",
   "execution_count": 29,
   "metadata": {},
   "outputs": [],
   "source": [
    "# Mean squared error as cost\n",
    "cost = tf.reduce_sum(tf.pow(pred - Y, 2)/(2  * n_samples))\n",
    "\n",
    "# Use Gradient descent as the optimizer\n",
    "optimizer = tf.train.GradientDescentOptimizer(learning_rate).minimize(cost)"
   ]
  },
  {
   "cell_type": "code",
   "execution_count": 30,
   "metadata": {},
   "outputs": [],
   "source": [
    "# Initialize the variables (e.g. assign their default values)\n",
    "init = tf.global_variables_initializer()"
   ]
  },
  {
   "cell_type": "markdown",
   "metadata": {},
   "source": [
    "Start training"
   ]
  },
  {
   "cell_type": "code",
   "execution_count": 41,
   "metadata": {},
   "outputs": [
    {
     "name": "stdout",
     "output_type": "stream",
     "text": [
      "Epoch: 50, cost=0.159579873, W=0.41462600231170654, b=-0.35673218965530396\n",
      "Epoch: 100, cost=0.150127023, W=0.40502241253852844, b=-0.288646936416626\n",
      "Epoch: 150, cost=0.141755342, W=0.3959846496582031, b=-0.22457334399223328\n",
      "Epoch: 200, cost=0.134341076, W=0.38747942447662354, b=-0.16427503526210785\n",
      "Epoch: 250, cost=0.127774835, W=0.37947532534599304, b=-0.10752949863672256\n",
      "Epoch: 300, cost=0.121959545, W=0.37194281816482544, b=-0.05412750691175461\n",
      "Epoch: 350, cost=0.116809361, W=0.3648541271686554, b=-0.003871993161737919\n",
      "Epoch: 400, cost=0.112248220, W=0.3581831455230713, b=0.0434224009513855\n",
      "Epoch: 450, cost=0.108208708, W=0.3519051969051361, b=0.08793016523122787\n",
      "Epoch: 500, cost=0.104631223, W=0.3459971845149994, b=0.1298154592514038\n",
      "Epoch: 550, cost=0.101462886, W=0.34043723344802856, b=0.16923286020755768\n",
      "Epoch: 600, cost=0.098656908, W=0.33520492911338806, b=0.20632772147655487\n",
      "Epoch: 650, cost=0.096171871, W=0.3302808701992035, b=0.24123689532279968\n",
      "Epoch: 700, cost=0.093971044, W=0.3256469964981079, b=0.27408912777900696\n",
      "Epoch: 750, cost=0.092021912, W=0.3212861120700836, b=0.3050056993961334\n",
      "Epoch: 800, cost=0.090295702, W=0.31718218326568604, b=0.3341006934642792\n",
      "Epoch: 850, cost=0.088766918, W=0.3133200705051422, b=0.36148130893707275\n",
      "Epoch: 900, cost=0.087413013, W=0.30968552827835083, b=0.38724857568740845\n",
      "Epoch: 950, cost=0.086213924, W=0.30626511573791504, b=0.4114978313446045\n",
      "Epoch: 1000, cost=0.085151985, W=0.30304625630378723, b=0.4343181252479553\n",
      "Optimization Finished!\n",
      "Training cost=0.08515198528766632, W=0.30304625630378723, b= 0.4343181252479553\n"
     ]
    },
    {
     "data": {
      "image/png": "[encoded data removed]",
      "text/plain": [
       "<matplotlib.figure.Figure at 0x126aa29e8>"
      ]
     },
     "metadata": {},
     "output_type": "display_data"
    }
   ],
   "source": [
    "with tf.Session() as sess:\n",
    "    sess.run(init)\n",
    "    \n",
    "    for epoch in range(training_epochs):\n",
    "        sess.run(optimizer, feed_dict={X: train_X, Y: train_Y})\n",
    "        \n",
    "        if (epoch + 1) % display_step == 0:\n",
    "            c = sess.run(cost, feed_dict={X: train_X, Y: train_Y})\n",
    "            print(f\"Epoch: {epoch + 1}, cost={c:.9f}, W={sess.run(W)}, b={sess.run(b)}\")\n",
    "            \n",
    "    print(\"Optimization Finished!\")\n",
    "    training_cost = sess.run(cost, feed_dict={X: train_X, Y: train_Y})\n",
    "    print(f\"Training cost={training_cost}, W={sess.run(W)}, b= {sess.run(b)}\")\n",
    "    \n",
    "    #Graphic display\n",
    "    plt.plot(train_X, train_Y, 'ro', label='Original data')\n",
    "    plt.plot(train_X, sess.run(W) * train_X + sess.run(b), label='Fitted line')\n",
    "    plt.legend()\n",
    "    plt.show()"
   ]
  },
  {
   "cell_type": "markdown",
   "metadata": {},
   "source": [
    "## Logistic Regression Example\n",
    "\n",
    "A logistic regression learning algorithm example using Tensorflow library.\n",
    "\n",
    "This example is using the MNIST dataset of handwriting digits(http://yann.lecun.com/exdb/mnist/)"
   ]
  },
  {
   "cell_type": "markdown",
   "metadata": {},
   "source": [
    "### MNIST Dataset Introduction\n",
    "\n",
    "Most examples are using MNIST dataset of handwritten digits. The dataset contains 60,000 examples for training and 10,000 examples for testing. The digits have been size-normalized and centered in a fixed-size image (28x28 pixels) with values from 0 to 1. For simplicity, each image has been flatten and converted to a 1-D numpy array of 784 features (28*28).\n",
    "\n",
    "#### Overview\n",
    "\n",
    "![MNIST Digits](http://neuralnetworksanddeeplearning.com/images/mnist_100_digits.png)"
   ]
  },
  {
   "cell_type": "code",
   "execution_count": 50,
   "metadata": {},
   "outputs": [
    {
     "name": "stdout",
     "output_type": "stream",
     "text": [
      "Extracting /tmp/data/train-images-idx3-ubyte.gz\n",
      "Extracting /tmp/data/train-labels-idx1-ubyte.gz\n",
      "Extracting /tmp/data/t10k-images-idx3-ubyte.gz\n",
      "Extracting /tmp/data/t10k-labels-idx1-ubyte.gz\n",
      "(55000, 784) (55000, 10)\n"
     ]
    }
   ],
   "source": [
    "# Import MNIST\n",
    "from tensorflow.examples.tutorials.mnist import input_data\n",
    "mnist = input_data.read_data_sets(\"/tmp/data/\", one_hot=True)\n",
    "\n",
    "# Load data\n",
    "X_train = mnist.train.images\n",
    "Y_train = mnist.train.labels\n",
    "X_test = mnist.test.images\n",
    "Y_test = mnist.test.labels\n",
    "\n",
    "print(X_train.shape, Y_train.shape)"
   ]
  },
  {
   "cell_type": "code",
   "execution_count": 51,
   "metadata": {},
   "outputs": [],
   "source": [
    "# A next_batch function that can iterate over the whole dataset \n",
    "# and return only the desired fraction of the dataset samples \n",
    "# (in order to save memory and avoid to load the entire dataset).\n",
    "\n",
    "# Get the next 64 images array and labels\n",
    "batch_X, batch_Y = mnist.train.next_batch(64)"
   ]
  },
  {
   "cell_type": "code",
   "execution_count": 52,
   "metadata": {},
   "outputs": [],
   "source": [
    "# Parameters\n",
    "learning_rate = 0.01\n",
    "training_epochs = 25\n",
    "batch_size = 100\n",
    "display_step = 1\n",
    "\n",
    "# tf Graph Input\n",
    "x = tf.placeholder(tf.float32, [None, 784]) # mnist data image of shape 28*28=784\n",
    "y = tf.placeholder(tf.float32, [None, 10]) # 0-9 digits recognition => 10 classes\n",
    "\n",
    "# Set model weights\n",
    "W = tf.Variable(tf.zeros([784, 10]))\n",
    "b = tf.Variable(tf.zeros([10]))\n",
    "\n",
    "# Construct model\n",
    "pred = tf.nn.softmax(tf.matmul(x, W) + b) # Softmax\n",
    "\n",
    "# Minimize error using cross entropy\n",
    "cost = tf.reduce_mean(-tf.reduce_sum(y*tf.log(pred), reduction_indices=1))\n",
    "# Gradient Descent\n",
    "optimizer = tf.train.GradientDescentOptimizer(learning_rate).minimize(cost)\n",
    "\n",
    "# Initialize the variables (i.e. assign their default value)\n",
    "init = tf.global_variables_initializer()"
   ]
  },
  {
   "cell_type": "code",
   "execution_count": 56,
   "metadata": {},
   "outputs": [
    {
     "name": "stdout",
     "output_type": "stream",
     "text": [
      "Epoch: 0001, cost=1.183572799\n",
      "Epoch: 0002, cost=0.665270209\n",
      "Epoch: 0003, cost=0.552793689\n",
      "Epoch: 0004, cost=0.498518501\n",
      "Epoch: 0005, cost=0.465674939\n",
      "Epoch: 0006, cost=0.442478711\n",
      "Epoch: 0007, cost=0.425561241\n",
      "Epoch: 0008, cost=0.412331195\n",
      "Epoch: 0009, cost=0.401345787\n",
      "Epoch: 0010, cost=0.392346021\n",
      "Epoch: 0011, cost=0.384958149\n",
      "Epoch: 0012, cost=0.378398171\n",
      "Epoch: 0013, cost=0.372290712\n",
      "Epoch: 0014, cost=0.367383566\n",
      "Epoch: 0015, cost=0.362730587\n",
      "Epoch: 0016, cost=0.358688057\n",
      "Epoch: 0017, cost=0.354789657\n",
      "Epoch: 0018, cost=0.351398590\n",
      "Epoch: 0019, cost=0.348505534\n",
      "Epoch: 0020, cost=0.345385197\n",
      "Epoch: 0021, cost=0.342680720\n",
      "Epoch: 0022, cost=0.340580139\n",
      "Epoch: 0023, cost=0.337729593\n",
      "Epoch: 0024, cost=0.335714236\n",
      "Epoch: 0025, cost=0.333732998\n",
      "Optimization Finished!\n",
      "Accuracy: 0.8893333077430725\n"
     ]
    }
   ],
   "source": [
    "# Start training\n",
    "with tf.Session() as sess:\n",
    "    sess.run(init)\n",
    "\n",
    "    # Training cycle\n",
    "    for epoch in range(training_epochs):\n",
    "        avg_cost = 0.\n",
    "        total_batch = int(mnist.train.num_examples/batch_size)\n",
    "        # Loop over all batches\n",
    "        for i in range(total_batch):\n",
    "            batch_xs, batch_ys = mnist.train.next_batch(batch_size)\n",
    "            # Fit training using batch data\n",
    "            _, c = sess.run([optimizer, cost], feed_dict={x: batch_xs,\n",
    "                                                          y: batch_ys})\n",
    "            # Compute average loss\n",
    "            avg_cost += c / total_batch\n",
    "        # Display logs per epoch step\n",
    "        if (epoch+1) % display_step == 0:\n",
    "            print(f\"Epoch: {epoch+1:04d}, cost={avg_cost:.9f}\")\n",
    "\n",
    "    print(\"Optimization Finished!\")\n",
    "\n",
    "    # Test model\n",
    "    correct_prediction = tf.equal(tf.argmax(pred, 1), tf.argmax(y, 1))\n",
    "    # Calculate accuracy for 3000 examples\n",
    "    accuracy = tf.reduce_mean(tf.cast(correct_prediction, tf.float32))\n",
    "    print(f\"Accuracy: {accuracy.eval({x: mnist.test.images[:3000], y: mnist.test.labels[:3000]})}\")"
   ]
  },
  {
   "cell_type": "code",
   "execution_count": null,
   "metadata": {},
   "outputs": [],
   "source": []
  }
 ],
 "metadata": {
  "kernelspec": {
   "display_name": "Python 3",
   "language": "python",
   "name": "python3"
  },
  "language_info": {
   "codemirror_mode": {
    "name": "ipython",
    "version": 3
   },
   "file_extension": ".py",
   "mimetype": "text/x-python",
   "name": "python",
   "nbconvert_exporter": "python",
   "pygments_lexer": "ipython3",
   "version": "3.6.2"
  }
 },
 "nbformat": 4,
 "nbformat_minor": 2
}
